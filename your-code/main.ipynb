{
 "cells": [
  {
   "cell_type": "markdown",
   "metadata": {},
   "source": [
    "# Before your start:\n",
    "- Read the README.md file\n",
    "- Comment as much as you can and use the resources in the README.md file\n",
    "- Happy learning!"
   ]
  },
  {
   "cell_type": "code",
   "execution_count": null,
   "metadata": {},
   "outputs": [],
   "source": [
    "# Libraries\n",
    "import math"
   ]
  },
  {
   "cell_type": "markdown",
   "metadata": {},
   "source": [
    "# Challenge 1 - Handling Errors Using `if` Statements\n",
    "\n",
    "In many cases, we are able to identify issues that may come up in our code and handle those handlful of issues with an `if` statment. Sometimes we would like to handle different types of inputs and are aware that later in the code, we will have to write two different branches of code for the two different cases we allowed in the beginning.\n",
    "\n",
    "In the 3 cells below, add an `if` statment that will handle both types of input allowed in the functions."
   ]
  },
  {
   "cell_type": "code",
   "execution_count": null,
   "metadata": {},
   "outputs": [],
   "source": [
    "# Modify the code below to handle positive and negative numbers by adding an if statement and performing a transformation:\n",
    "\n",
    "def sqrt_for_all(x):\n",
    "    \"\"\"\n",
    "    This function will take any real number and \n",
    "    return the square root of its magnitude.\n",
    "    \n",
    "    Input: Real number\n",
    "    Output: Real number\n",
    "    \n",
    "    Sample Input: -4\n",
    "    Sample Output: 2.0\n",
    "    \"\"\"\n",
    "    try:\n",
    "        # The function will return the square root of input...\n",
    "        return math.sqrt(x)\n",
    "    except ValueError:\n",
    "        #... unless a \"ValueError\" occurs, where a message appears and the square root of\n",
    "        # absolute value inputed is return\n",
    "        print(\"The square root of negative numbers is not a real number. Let's use the absolute \\\n",
    "value of what was given as input.\")\n",
    "        return math.sqrt(abs(x))\n",
    "\n",
    "#sqrt_for_all(-1)\n",
    "\n",
    "# Let's check with sample input\n",
    "sqrt_for_all(-4)"
   ]
  },
  {
   "cell_type": "code",
   "execution_count": null,
   "metadata": {},
   "outputs": [],
   "source": [
    "# Modify the code below to handle zero as well. In the case of zero, return zero\n",
    "\n",
    "def divide(x, y):\n",
    "    \"\"\"\n",
    "    This function will take any two real numbers \n",
    "    and return their quotient. \n",
    "    If the denominator is zero, we return zero.\n",
    "    \n",
    "    Input: Real number\n",
    "    Output: Real number\n",
    "    \n",
    "    Sample Input: 5, 1\n",
    "    Sample Output: 5.0\n",
    "    \"\"\"\n",
    "    try:\n",
    "        # The function \"divide\" computes the division between x and y...\n",
    "        return x / y\n",
    "    except ZeroDivisionError:\n",
    "        # ... and returns 0 if the second input (y) is zero.\n",
    "        print('Since the number 0 cannot be a divisor, the code returns 0, but actually it should\\\n",
    " return infinity')\n",
    "        return 0\n",
    "\n",
    "# Let's test the function\n",
    "divide(5, 0)"
   ]
  },
  {
   "cell_type": "code",
   "execution_count": null,
   "metadata": {},
   "outputs": [],
   "source": [
    "# Modify the function below that it will take either an number and a list or two numbers. \n",
    "# If we take two numbers, add them together and return a list of length 1. \n",
    "# Otherwise, add the number to every element of the list and return the resulting list\n",
    "\n",
    "def add_elements(a, l):\n",
    "    \"\"\"\n",
    "    This function takes either two numbers or a list and a number \n",
    "    and adds the number to all elements of the list.\n",
    "    If the function only takes two numbers, it returns a list \n",
    "    of length one that is the sum of the numbers.\n",
    "    \n",
    "    Input: number and list or two numbers\n",
    "    Output: list\n",
    "    \n",
    "    Sample Input: 5, 6\n",
    "    Sample Output: [11]\n",
    "    \"\"\"\n",
    "    try:\n",
    "        # This code will run for a list as a second input(l)\n",
    "        return [a + element for element in l]\n",
    "    except TypeError:\n",
    "        # This code will run for a number as second input (l)\n",
    "        return [a+l]\n",
    "\n",
    "# Let's test for the sample input\n",
    "print(add_elements(5, 6))\n",
    "\n",
    "# Let's add a list as second input\n",
    "print(add_elements(5, [1,3]))"
   ]
  },
  {
   "cell_type": "markdown",
   "metadata": {},
   "source": [
    "# Challenge 2 - Fixing Errors to Get Code to Run\n",
    "\n",
    "Sometimes the error is not caused by the input but by the code itself. In the 2 following cells below, examine the error and correct the code to avoid the error."
   ]
  },
  {
   "cell_type": "code",
   "execution_count": null,
   "metadata": {},
   "outputs": [],
   "source": [
    "# Modify the code below:\n",
    "\n",
    "l = [1,2,3,4]\n",
    "\n",
    "# ORIGINAL ---> sum([element + 1 for element in l]\n",
    "# Let's correct for the missing ) ---> sums all the numbers in the list \"l\", after the sum of 1\n",
    "# to each one of them\n",
    "print(sum([element + 1 for element in l]))\n",
    "\n",
    "# Let's remove the \"sum(\" ---> sums 1 to each one of the numbers in list \"l\"\n",
    "print([element + 1 for element in l])\n"
   ]
  },
  {
   "cell_type": "code",
   "execution_count": null,
   "metadata": {},
   "outputs": [],
   "source": [
    "# Modify the code below:\n",
    "\n",
    "l = [1,2,3,4]\n",
    "\n",
    "for element in l:\n",
    "    # print(\"The current element in the loop is\" + element) ---> The symbol \"+\" after a string\n",
    "    # acts as a concatenator. In this case, as each element o list 'l' is an integer, the \"+\" is\n",
    "    # going to be replaced by a comma\n",
    "    print(\"The current element in the loop is\", element)\n",
    "    "
   ]
  },
  {
   "cell_type": "markdown",
   "metadata": {},
   "source": [
    "# Bonus Challenge - Raise Errors on Your Own\n",
    "\n",
    "There are cases where you need to alert your users of a problem even if the input will not immediately produce an error. In these cases you may want to throw an error yourself to bring attention to the problem. In the 2 cells below, write the functions as directed and add the appropriate errors using the `raise` clause. Make sure to add a meaningful error message."
   ]
  },
  {
   "cell_type": "code",
   "execution_count": null,
   "metadata": {},
   "outputs": [],
   "source": [
    "def log_square(x):\n",
    "    \"\"\"\n",
    "    This function takes a numeric value and returns the \n",
    "    natural log of the square of the number.\n",
    "    The function raises an error if the number is equal to zero.\n",
    "    Use the math.log function in this funtion.\n",
    "    \n",
    "    Input: Real number\n",
    "    Output: Real number or error\n",
    "    \n",
    "    Sample Input: 5\n",
    "    Sample Output: 3.21887\n",
    "    \"\"\"\n",
    "    \n",
    "    # Your code here:\n",
    "    if x!= 0:\n",
    "        return math.log(x**2)\n",
    "    else:\n",
    "        raise ValueError(\"The value of log of zero is minus infinity. \\\n",
    "It cannot be given as output.\")\n",
    "\n",
    "# Let's check the function with the sample input\n",
    "print(log_square(5))\n",
    "\n",
    "# Let's check the function with the number 0\n",
    "log_square(0)"
   ]
  },
  {
   "cell_type": "code",
   "execution_count": null,
   "metadata": {},
   "outputs": [],
   "source": [
    "def check_capital(x):\n",
    "    \"\"\"\n",
    "    This function returns true if the string contains \n",
    "    at least one capital letter and throws an error otherwise.\n",
    "    \n",
    "    Input: String\n",
    "    Output: Bool or error message\n",
    "    \n",
    "    Sample Input: 'John'\n",
    "    Sample Output: True\n",
    "    \"\"\"\n",
    "    \n",
    "    # Your code here:\n",
    "    if False == x.islower():\n",
    "        return True\n",
    "    else:\n",
    "        raise ValueError(\"There are no capital letters in your string.\")\n",
    "\n",
    "#Let's check the function for the sample input\n",
    "print(check_capital('John'))\n",
    "\n",
    "#Let's check the function for the sample input with lower case letters\n",
    "print(check_capital('john'))"
   ]
  }
 ],
 "metadata": {
  "kernelspec": {
   "display_name": "Python 3 (ipykernel)",
   "language": "python",
   "name": "python3"
  },
  "language_info": {
   "codemirror_mode": {
    "name": "ipython",
    "version": 3
   },
   "file_extension": ".py",
   "mimetype": "text/x-python",
   "name": "python",
   "nbconvert_exporter": "python",
   "pygments_lexer": "ipython3",
   "version": "3.8.8"
  }
 },
 "nbformat": 4,
 "nbformat_minor": 2
}
